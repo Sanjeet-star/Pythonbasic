{
  "nbformat": 4,
  "nbformat_minor": 0,
  "metadata": {
    "colab": {
      "provenance": []
    },
    "kernelspec": {
      "name": "python3",
      "display_name": "Python 3"
    },
    "language_info": {
      "name": "python"
    }
  },
  "cells": [
    {
      "cell_type": "markdown",
      "source": [
        "Python Basics - Theory Questions\n",
        "Q1-What is Python, and why is it popular?\n",
        "\n",
        "Python was designed by Guido van Rossum, a Dutch programmer, in the late 1980s. He released the first version in 1991.Python is a high-level, interpreted programming language known for its simplicity and readability. It supports multiple programming paradigms, including procedural, object-oriented, and functional programming.\n",
        "Its popularity stems from:\n",
        "\n",
        "Ease of use: Simple syntax, making it beginner-friendly.\n",
        "Versatility: Used in web development, data science, artificial intelligence, automation, and more.\n",
        "Large community: Extensive libraries and frameworks.\n",
        "Cross-platform compatibility: Works on multiple operating systems.\n",
        "\n",
        "Q2-What is an interpreter in Python?\n",
        "\n",
        "An interpreter in Python is a program that executes Python code directly, line by line, rather than compiling it into machine language beforehand. It reads the source code, translates it into an intermediate form, and runs it simultaneously.\n",
        "\n",
        "Q3-What are pre-defined keywords in Python?\n",
        "\n",
        "Predefined words that holds a speacial meaning and have specific puporse. Some of the pre-defined keywords are - if, elif, import, etc.\n",
        "Q4-Can keywords be used as variable names?\n",
        "\n",
        "No, keywords cannot be used as variable names in Python. Keywords are reserved words that have special meanings and purposes in the Python programming language. Using them as variable names would cause syntax errors because Python would misinterpret the intended functionality of the keyword.\n",
        "Q5-What is mutability in Python?\n",
        "\n",
        "Objects/ Container whose state or value can be changed after they are created are called as mutable objects. Mutability means Changeability. List is a type of Mutable object.\n",
        "Q6-Why are lists mutable, but tuples are immutable?\n",
        "\n",
        "Lists are mutable because they are designed for dynamic operations like adding, removing, or modifying elements, making them flexible for use cases that require frequent changes.\n",
        "\n",
        "Tuples are immutable to provide a lightweight, hashable, and stable data structure, suitable for fixed collections of items and ensuring data integrity when used as keys in dictionaries or elements in sets.\n",
        "\n",
        "Q7-What is the difference between “==” and “is” operators in Python?\n",
        "\n",
        "== (Equality Operator)\n",
        "\n",
        "Compares values of two objects to check if they are equal.\n",
        "\n",
        "Can return True even if the objects are stored at different memory locations.\n",
        "\n",
        "is (Identity Operator)\n",
        "\n",
        "Compares the memory addresses (identity) of two objects to check if they are the same object.\n",
        "\n",
        "Returns True only if both variables point to the exact same object in memory.\n",
        "\n",
        "Key Difference\n",
        "\n",
        "== checks value equality.\n",
        "\n",
        "is checks object identity.\n",
        "\n",
        "Q8-What are logical operators in Python?\n",
        "\n",
        "Logical operators in Python are used to combine or modify boolean expressions and return a boolean value (True or False). Python provides three logical operators:\n",
        "and (Logical AND) Returns True if both operands are True. Short-circuits: Stops evaluating as soon as it encounters a False.\n",
        "or (Logical OR) Returns True if at least one operand is True. Short-circuits: Stops evaluating as soon as it encounters a True.\n",
        "not (Logical NOT) Returns the opposite boolean value of the operand. It is a unary operator, meaning it works on a single operand.\n",
        "Q9-What is type casting in Python?\n",
        "\n",
        "The Process of changing the data type of a value. (Type Conversion)\n",
        "There are two varities of typecasting in python namely-\n",
        "Implicit Typecasting\n",
        "Explicit Typecasting\n",
        "Q10-What is the difference between implicit and explicit type casting?\n",
        "\n",
        "The difference between implicit and explicit type casting lies in who performs the conversion and how it occurs:\n",
        "Implicit Type Casting Performed by Python automatically. Happens when Python converts one data type to another without user intervention. Ensures no loss of data or precision. Typically occurs in numeric operations (e.g., combining int and float).\n",
        "\n",
        "Explicit Type Casting Performed manually by the programmer. Achieved using Python’s built-in functions like int(), float(), str(), etc. Used when you need to forcefully convert a data type. Can lead to data loss if not used carefully.\n",
        "\n",
        "Q11-What is the purpose of conditional statements in Python?\n",
        "\n",
        "The purpose of conditional statements in Python is to enable decision-making in a program. They allow the program to execute specific blocks of code based on whether a condition (or set of conditions) evaluates to True or False. This helps in controlling the program's flow dynamically.\n",
        "\n",
        "Key Uses of Conditional Statements\n",
        "\n",
        "Decision Making: Execute different code paths based on conditions.\n",
        "Control Flow: Change the flow of execution based on dynamic inputs or logic.\n",
        "Validation: Check and enforce conditions before performing actions.\n",
        "Types of Conditional Statements in Python\n",
        "\n",
        "if Statement\n",
        "if-else\n",
        "if-elif-else\n",
        "nested if-else\n",
        "Q12-How does the elif statement work?\n",
        "\n",
        "The elif statement in Python is used for multiple conditional checks. It stands for \"else if\" and allows you to test several conditions in sequence. When the program encounters an elif, it evaluates the condition associated with it, and if the condition is True, it executes the block of code under that elif.\n",
        "\n",
        "If the condition is False, the program moves to the next elif or else statement, (if any).\n",
        "\n",
        "Q13-What is the difference between for and while loops?\n",
        "\n",
        "The key difference between for and while loops in Python lies in their structure and use cases:\n",
        "for Loop Purpose: The for loop is used to iterate over a sequence (like a list, tuple, string, or range) for a specific number of times.\n",
        "When to use: When you know the number of iterations in advance or you are iterating over a collection (like a list or range).\n",
        "Control: The loop automatically handles the iteration, and you don't need to manually update the loop variable.\n",
        "while Loop Purpose: The while loop continues executing as long as the given condition is True.\n",
        "When to use: When you don't know beforehand how many iterations are needed and you want the loop to run until a condition is met.\n",
        "Control: You need to manually update the condition within the loop to prevent an infinite loop.\n",
        "Q14-Describe a scenario where a while loop is more suitable than a for loop.\n",
        "\n",
        "A while loop is more suitable than a for loop when the number of iterations is not known in advance and the loop should continue as long as a certain condition is true.\n",
        "Imagine you're building a program that prompts the user to enter a valid password. You don't know how many attempts the user will need, so you need the loop to continue until the user enters a valid password.\n",
        "\n",
        "password = \"secret123\" user_input = \"\"\n",
        "\n",
        "while user_input != password: user_input = input(\"Enter your password: \") if user_input != password: print(\"Invalid password, try again.\") print(\"Password accepted!\")\n",
        "\n",
        "Explanation: The while loop continues to ask for the password until the user enters the correct one.\n",
        "\n",
        "The condition (user_input != password) is checked each time, and the loop keeps running until the condition becomes False (i.e., the user enters the correct password).\n",
        "\n",
        "The number of iterations is not predefined, making the while loop the ideal choice for this scenario.\n",
        "\n",
        "Why a for loop wouldn't be suitable: A for loop is typically used when you know the number of iterations in advance, such as iterating over a list or range. In this case, since we don't know how many times the user will attempt to enter the password, a for loop isn't ideal unless you explicitly set a fixed number of attempts.\n",
        "\n",
        "Python Basics - Practical Questions\n"
      ],
      "metadata": {
        "id": "KLBHfwJcYFs-"
      }
    },
    {
      "cell_type": "code",
      "source": [
        "# Q1- Write a Python program to print \"Hello, world\"\n",
        "print(\"hello world\")"
      ],
      "metadata": {
        "colab": {
          "base_uri": "https://localhost:8080/"
        },
        "id": "TkDlNswxYkNx",
        "outputId": "86bca2fc-0586-4fee-cc40-472b1a7773db"
      },
      "execution_count": 4,
      "outputs": [
        {
          "output_type": "stream",
          "name": "stdout",
          "text": [
            "hello world\n"
          ]
        }
      ]
    },
    {
      "cell_type": "code",
      "source": [
        "# 2- Write a Python program that displays your name and age.\n",
        "name = \"Sanjeet pandey\"\n",
        "Age = 23\n",
        "print(\"My Name is\", name)\n",
        "print(\"My Age is\", Age)"
      ],
      "metadata": {
        "colab": {
          "base_uri": "https://localhost:8080/"
        },
        "id": "jBDwbI3MYseh",
        "outputId": "cbc9a8a4-43b7-4e75-e9af-764ab79fd7b9"
      },
      "execution_count": 8,
      "outputs": [
        {
          "output_type": "stream",
          "name": "stdout",
          "text": [
            "My Name is Sanjeet pandey\n",
            "My Age is 23\n"
          ]
        }
      ]
    },
    {
      "cell_type": "code",
      "source": [
        "# Q3- Write code to print all the pre-defined keywords in Python using the keyword library.\n",
        "\n",
        "help(\"keywords\")"
      ],
      "metadata": {
        "colab": {
          "base_uri": "https://localhost:8080/"
        },
        "id": "LQgC86hUZiJH",
        "outputId": "030007a7-ad26-49d7-effc-70e4c5da92c6"
      },
      "execution_count": 9,
      "outputs": [
        {
          "output_type": "stream",
          "name": "stdout",
          "text": [
            "\n",
            "Here is a list of the Python keywords.  Enter any keyword to get more help.\n",
            "\n",
            "False               class               from                or\n",
            "None                continue            global              pass\n",
            "True                def                 if                  raise\n",
            "and                 del                 import              return\n",
            "as                  elif                in                  try\n",
            "assert              else                is                  while\n",
            "async               except              lambda              with\n",
            "await               finally             nonlocal            yield\n",
            "break               for                 not                 \n",
            "\n"
          ]
        }
      ]
    },
    {
      "cell_type": "code",
      "source": [
        "# Q4- Write a program that checks if a given word is a Python keyword.\n",
        "\n",
        "import  keyword\n",
        "a= keyword.kwlist\n",
        "b= (input(\" Enter a Word\"))\n",
        "if b in a:\n",
        "  print(\"The Word is a keyword\")\n",
        "else:\n",
        "  print(\"The Word is not a keyword\")"
      ],
      "metadata": {
        "colab": {
          "base_uri": "https://localhost:8080/"
        },
        "id": "EVOU9_W7aB93",
        "outputId": "55931f88-28e8-48bb-9f25-596dc28eef2a"
      },
      "execution_count": 10,
      "outputs": [
        {
          "output_type": "stream",
          "name": "stdout",
          "text": [
            " Enter a Wordif\n",
            "The Word is a keyword\n"
          ]
        }
      ]
    },
    {
      "cell_type": "code",
      "source": [
        "# Q5- Create a list and tuple in Python, and demonstrate how attempting to change an element works differently for each.\n",
        "\n",
        "list_ = ['Apple','Mango','Banana']\n",
        "tuple_ = ('Apple','Mango','Banana')\n",
        "list_[0] = 'Grapes'\n",
        "print(list_)\n",
        "tuple_[0] = 'Grapes'\n",
        "print(tuple_)"
      ],
      "metadata": {
        "colab": {
          "base_uri": "https://localhost:8080/",
          "height": 211
        },
        "id": "oebPhDH2aJDN",
        "outputId": "b24ab996-23da-4ace-d7b6-fb03ec6e1b3d"
      },
      "execution_count": 11,
      "outputs": [
        {
          "output_type": "stream",
          "name": "stdout",
          "text": [
            "['Grapes', 'Mango', 'Banana']\n"
          ]
        },
        {
          "output_type": "error",
          "ename": "TypeError",
          "evalue": "'tuple' object does not support item assignment",
          "traceback": [
            "\u001b[0;31m---------------------------------------------------------------------------\u001b[0m",
            "\u001b[0;31mTypeError\u001b[0m                                 Traceback (most recent call last)",
            "\u001b[0;32m<ipython-input-11-30867f47743f>\u001b[0m in \u001b[0;36m<cell line: 7>\u001b[0;34m()\u001b[0m\n\u001b[1;32m      5\u001b[0m \u001b[0mlist_\u001b[0m\u001b[0;34m[\u001b[0m\u001b[0;36m0\u001b[0m\u001b[0;34m]\u001b[0m \u001b[0;34m=\u001b[0m \u001b[0;34m'Grapes'\u001b[0m\u001b[0;34m\u001b[0m\u001b[0;34m\u001b[0m\u001b[0m\n\u001b[1;32m      6\u001b[0m \u001b[0mprint\u001b[0m\u001b[0;34m(\u001b[0m\u001b[0mlist_\u001b[0m\u001b[0;34m)\u001b[0m\u001b[0;34m\u001b[0m\u001b[0;34m\u001b[0m\u001b[0m\n\u001b[0;32m----> 7\u001b[0;31m \u001b[0mtuple_\u001b[0m\u001b[0;34m[\u001b[0m\u001b[0;36m0\u001b[0m\u001b[0;34m]\u001b[0m \u001b[0;34m=\u001b[0m \u001b[0;34m'Grapes'\u001b[0m\u001b[0;34m\u001b[0m\u001b[0;34m\u001b[0m\u001b[0m\n\u001b[0m\u001b[1;32m      8\u001b[0m \u001b[0mprint\u001b[0m\u001b[0;34m(\u001b[0m\u001b[0mtuple_\u001b[0m\u001b[0;34m)\u001b[0m\u001b[0;34m\u001b[0m\u001b[0;34m\u001b[0m\u001b[0m\n",
            "\u001b[0;31mTypeError\u001b[0m: 'tuple' object does not support item assignment"
          ]
        }
      ]
    },
    {
      "cell_type": "code",
      "source": [
        "# Q6- Write a function to demonstrate the behavior of mutable and immutable arguments.\n",
        "\n",
        "\n",
        "def modify_immutable(num):\n",
        "    num += 1\n",
        "    print(f\"Inside function: num = {num}\")\n",
        "\n",
        "def modify_mutable(my_list):\n",
        "    my_list.append(4)\n",
        "    print(f\"Inside function: my_list = {my_list}\")\n",
        "\n",
        "original_num = 5\n",
        "print(f\"Before function call: original_num = {original_num}\")\n",
        "modify_immutable(original_num)\n",
        "print(f\"After function call: original_num = {original_num}\")\n",
        "\n",
        "my_list = [1, 2, 3]\n",
        "print(f\"Before function call: my_list = {my_list}\")\n",
        "modify_mutable(my_list)\n",
        "print(f\"After function call: my_list = {my_list}\")\n",
        ""
      ],
      "metadata": {
        "colab": {
          "base_uri": "https://localhost:8080/"
        },
        "id": "tSaLv55vaT_y",
        "outputId": "3d922870-0285-4bad-eb0f-fb52fb2ef6a9"
      },
      "execution_count": 12,
      "outputs": [
        {
          "output_type": "stream",
          "name": "stdout",
          "text": [
            "Before function call: original_num = 5\n",
            "Inside function: num = 6\n",
            "After function call: original_num = 5\n",
            "Before function call: my_list = [1, 2, 3]\n",
            "Inside function: my_list = [1, 2, 3, 4]\n",
            "After function call: my_list = [1, 2, 3, 4]\n"
          ]
        }
      ]
    },
    {
      "cell_type": "code",
      "source": [
        "# Q7- Write a function to demonstrate the behavior of mutable and immutable arguments.\n",
        "\n",
        "\n",
        "def modify_immutable(num):\n",
        "    num += 1\n",
        "    print(f\"Inside function: num = {num}\")\n",
        "\n",
        "def modify_mutable(my_list):\n",
        "    my_list.append(4)\n",
        "    print(f\"Inside function: my_list = {my_list}\")\n",
        "\n",
        "original_num = 5\n",
        "print(f\"Before function call: original_num = {original_num}\")\n",
        "modify_immutable(original_num)\n",
        "print(f\"After function call: original_num = {original_num}\")\n",
        "\n",
        "my_list = [1, 2, 3]\n",
        "print(f\"Before function call: my_list = {my_list}\")\n",
        "modify_mutable(my_list)\n",
        "print(f\"After function call: my_list = {my_list}\")"
      ],
      "metadata": {
        "colab": {
          "base_uri": "https://localhost:8080/"
        },
        "id": "F1f0ITrNac9c",
        "outputId": "9a5a124b-1ea2-4721-dc65-3800ff9b0e5e"
      },
      "execution_count": 13,
      "outputs": [
        {
          "output_type": "stream",
          "name": "stdout",
          "text": [
            "Before function call: original_num = 5\n",
            "Inside function: num = 6\n",
            "After function call: original_num = 5\n",
            "Before function call: my_list = [1, 2, 3]\n",
            "Inside function: my_list = [1, 2, 3, 4]\n",
            "After function call: my_list = [1, 2, 3, 4]\n"
          ]
        }
      ]
    },
    {
      "cell_type": "code",
      "source": [
        "# Q8- Write a program to demonstrate the use of logical operators.\n",
        "\n",
        "\n",
        "a = True\n",
        "b = False\n",
        "print(\"AND Operator\")\n",
        "print(f\"{a and b}\") #Output is False because one of them is False.\n",
        "print(f\"{a and a}\") #Output will be True only when both of them are True\n",
        "print(\"\")\n",
        "print(\"OR Operator\")\n",
        "print(f\"{a or b}\") #Output is True because one of them is True.\n",
        "print(f\"{b or b}\") #Output will be False only when both of them are False.\n",
        "print(\"\")\n",
        "print(\"NOT Operator\")\n",
        "print(f\"{not a}\") #Output is False because a is True.\n",
        "print(f\"{not b}\") #Output is True because b is False.\n",
        ""
      ],
      "metadata": {
        "colab": {
          "base_uri": "https://localhost:8080/"
        },
        "id": "DRk6uJWhaj-x",
        "outputId": "0b8d6dbe-2d9c-4444-8856-3a2867733930"
      },
      "execution_count": 14,
      "outputs": [
        {
          "output_type": "stream",
          "name": "stdout",
          "text": [
            "AND Operator\n",
            "False\n",
            "True\n",
            "\n",
            "OR Operator\n",
            "True\n",
            "False\n",
            "\n",
            "NOT Operator\n",
            "False\n",
            "True\n"
          ]
        }
      ]
    },
    {
      "cell_type": "code",
      "source": [
        "# Q9- Write a Python program to convert user input from string to integer, float, and boolean types.\n",
        "\n",
        "\n",
        "a= input(\"Enter a string to change it's type\")\n",
        "b= input(\"Select type - Integer Float Boolean\")\n",
        "if b==\"Integer\":\n",
        "  print(int(a))\n",
        "elif b==\"Float\":\n",
        "  print(float(a))\n",
        "elif b==\"Boolean\":\n",
        "  print(bool(a))\n",
        "else:\n",
        "  print(\"Invalid Input\")"
      ],
      "metadata": {
        "colab": {
          "base_uri": "https://localhost:8080/"
        },
        "id": "nUO3IaW4ao6u",
        "outputId": "20d917ec-052d-4e88-8165-e5e73e227997"
      },
      "execution_count": 16,
      "outputs": [
        {
          "output_type": "stream",
          "name": "stdout",
          "text": [
            "Enter a string to change it's type\"2\"\n",
            "Select type - Integer Float Boolean2.0\n",
            "Invalid Input\n"
          ]
        }
      ]
    },
    {
      "cell_type": "code",
      "source": [
        "# Q10- Write code to demonstrate type casting with list elements.\n",
        "\n",
        "\n",
        "my_list = [\"10\", \"20\", \"30\", \"40\"]\n",
        "\n",
        "# Casting each element to integer\n",
        "int_list = [int(x) for x in (my_list)]\n",
        "\n",
        "print(\"Original list:\", my_list)\n",
        "print(\"List after type casting to integers:\", int_list)"
      ],
      "metadata": {
        "colab": {
          "base_uri": "https://localhost:8080/"
        },
        "id": "MRCzvA1tatbv",
        "outputId": "53a275d3-4674-4f12-eb5b-5507394365f9"
      },
      "execution_count": 17,
      "outputs": [
        {
          "output_type": "stream",
          "name": "stdout",
          "text": [
            "Original list: ['10', '20', '30', '40']\n",
            "List after type casting to integers: [10, 20, 30, 40]\n"
          ]
        }
      ]
    },
    {
      "cell_type": "code",
      "source": [
        "# Q11- Write a program that checks if a number is positive, negative, or zero.\n",
        "\n",
        "\n",
        "a= int(input(\"Enter a number\"))\n",
        "if a>0:\n",
        "  print(\"The number is positive\")\n",
        "elif a<0:\n",
        "  print(\"The number is negative\")\n",
        "else:\n",
        "  print(\"The number is zero\")\n",
        "\n"
      ],
      "metadata": {
        "colab": {
          "base_uri": "https://localhost:8080/"
        },
        "id": "t08gruk0bA-U",
        "outputId": "e6561955-dab7-4ec3-c373-b901ffadab7b"
      },
      "execution_count": 18,
      "outputs": [
        {
          "output_type": "stream",
          "name": "stdout",
          "text": [
            "Enter a number1\n",
            "The number is positive\n"
          ]
        }
      ]
    },
    {
      "cell_type": "code",
      "source": [
        "# Q12- Write a for loop to print numbers from 1 to 10.\n",
        "\n",
        "\n",
        "for i in range(1,11):\n",
        "  print(i)"
      ],
      "metadata": {
        "colab": {
          "base_uri": "https://localhost:8080/"
        },
        "id": "9dUELo1bbFOZ",
        "outputId": "1b7a1772-2e09-4afe-ab79-50fb6f1a0f44"
      },
      "execution_count": 19,
      "outputs": [
        {
          "output_type": "stream",
          "name": "stdout",
          "text": [
            "1\n",
            "2\n",
            "3\n",
            "4\n",
            "5\n",
            "6\n",
            "7\n",
            "8\n",
            "9\n",
            "10\n"
          ]
        }
      ]
    },
    {
      "cell_type": "code",
      "source": [
        "# Q13- Write a Python program to find the sum of all even numbers between 1 and 50.\n",
        "\n",
        "\n",
        "a = 0\n",
        "for i in range(0, 51):\n",
        "  if i%2==0:\n",
        "    a += i\n",
        "    print(a)\n",
        "print(\"The Sum of even numbers from 1 to 50 is\",a)\n",
        ""
      ],
      "metadata": {
        "colab": {
          "base_uri": "https://localhost:8080/"
        },
        "id": "aV7mwhVcbMfh",
        "outputId": "020e5314-1445-47cd-fe85-78f3592f3cf2"
      },
      "execution_count": 20,
      "outputs": [
        {
          "output_type": "stream",
          "name": "stdout",
          "text": [
            "0\n",
            "2\n",
            "6\n",
            "12\n",
            "20\n",
            "30\n",
            "42\n",
            "56\n",
            "72\n",
            "90\n",
            "110\n",
            "132\n",
            "156\n",
            "182\n",
            "210\n",
            "240\n",
            "272\n",
            "306\n",
            "342\n",
            "380\n",
            "420\n",
            "462\n",
            "506\n",
            "552\n",
            "600\n",
            "650\n",
            "The Sum of even numbers from 1 to 50 is 650\n"
          ]
        }
      ]
    },
    {
      "cell_type": "code",
      "source": [
        "# Q14- Write a program to reverse a string using a while loop?\n",
        "\n",
        "\n",
        "a = (\"Ajay\")\n",
        "while len(a) > 0:\n",
        "  print(a[-1])\n",
        "  a = a[:-1]\n",
        ""
      ],
      "metadata": {
        "colab": {
          "base_uri": "https://localhost:8080/"
        },
        "id": "FSe2NU5-bQ2z",
        "outputId": "edbbaa9b-9c44-468d-8448-bb41199ce337"
      },
      "execution_count": 21,
      "outputs": [
        {
          "output_type": "stream",
          "name": "stdout",
          "text": [
            "y\n",
            "a\n",
            "j\n",
            "A\n"
          ]
        }
      ]
    },
    {
      "cell_type": "code",
      "source": [
        "# 15- Write a Python program to calculate the factorial of a number provided by the user using a while loop.\n",
        "\n",
        "\n",
        "a = int(input(\"Enter a number\"))\n",
        "b = 1\n",
        "while a > 0:\n",
        "  b *= a\n",
        "  a -= 1\n",
        "print(b)"
      ],
      "metadata": {
        "colab": {
          "base_uri": "https://localhost:8080/"
        },
        "id": "av58lJqnbVdP",
        "outputId": "f11d12c3-c449-4a7a-a4ce-05d0e26387d8"
      },
      "execution_count": 22,
      "outputs": [
        {
          "output_type": "stream",
          "name": "stdout",
          "text": [
            "Enter a number5\n",
            "120\n"
          ]
        }
      ]
    },
    {
      "cell_type": "code",
      "source": [],
      "metadata": {
        "id": "N09R1z9qbaDZ"
      },
      "execution_count": null,
      "outputs": []
    }
  ]
}